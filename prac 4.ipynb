{
 "cells": [
  {
   "cell_type": "markdown",
   "metadata": {},
   "source": [
    "## Practical 4 (Panda series)\n",
    "### Name = Nayan Naresh khuje\n",
    "### Roll No. = 407"
   ]
  },
  {
   "cell_type": "code",
   "execution_count": 1,
   "metadata": {},
   "outputs": [],
   "source": [
    "import numpy as np\n",
    "import  pandas as pd"
   ]
  },
  {
   "cell_type": "markdown",
   "metadata": {},
   "source": [
    "## 1. Create the following Series and do the specified operations:"
   ]
  },
  {
   "cell_type": "markdown",
   "metadata": {},
   "source": [
    "#### a) EngAlph, having 26 elements with the alphabets as values and default index values."
   ]
  },
  {
   "cell_type": "code",
   "execution_count": 2,
   "metadata": {},
   "outputs": [],
   "source": [
    "alf= pd.Series(['a','b','c','d','e','f','g','h','i','j','k','l','m','n','o','p','q','r','s','t','u','v','w','x','y','z'])"
   ]
  },
  {
   "cell_type": "code",
   "execution_count": 3,
   "metadata": {},
   "outputs": [
    {
     "data": {
      "text/plain": [
       "0    a\n",
       "1    b\n",
       "2    c\n",
       "3    d\n",
       "4    e\n",
       "dtype: object"
      ]
     },
     "execution_count": 3,
     "metadata": {},
     "output_type": "execute_result"
    }
   ],
   "source": [
    "alf.head() # print only starting 5 colomns"
   ]
  },
  {
   "cell_type": "markdown",
   "metadata": {},
   "source": [
    "#### b) Vowels, having 5 elements with index labels ‘a’, ‘e’, ‘i’, ‘o’ and ‘u’ and all the five values set to zero. Check if it is an empty series."
   ]
  },
  {
   "cell_type": "code",
   "execution_count": 4,
   "metadata": {},
   "outputs": [],
   "source": [
    "vow=pd.Series(0,index=['a','e','i','o','u'])"
   ]
  },
  {
   "cell_type": "code",
   "execution_count": 5,
   "metadata": {},
   "outputs": [
    {
     "data": {
      "text/plain": [
       "a    0\n",
       "e    0\n",
       "i    0\n",
       "o    0\n",
       "u    0\n",
       "dtype: int64"
      ]
     },
     "execution_count": 5,
     "metadata": {},
     "output_type": "execute_result"
    }
   ],
   "source": [
    "vow"
   ]
  },
  {
   "cell_type": "markdown",
   "metadata": {},
   "source": [
    "#### c) Friends, from a dictionary having roll numbers of five of your friends as data and their first name as keys.\n"
   ]
  },
  {
   "cell_type": "code",
   "execution_count": 6,
   "metadata": {},
   "outputs": [
    {
     "data": {
      "text/plain": [
       "sahil        413\n",
       "anjali       414\n",
       "shalu       5646\n",
       "Shrutika     403\n",
       "arpit        404\n",
       "dtype: int64"
      ]
     },
     "execution_count": 6,
     "metadata": {},
     "output_type": "execute_result"
    }
   ],
   "source": [
    "fd={'sahil':413,'anjali':414,'shalu':5646,'Shrutika':403,'arpit':404}\n",
    "fds=pd.Series(fd)\n",
    "fds"
   ]
  },
  {
   "cell_type": "markdown",
   "metadata": {},
   "source": [
    "#### d) MTseries, an empty Series. Check if it is an empty series."
   ]
  },
  {
   "cell_type": "code",
   "execution_count": 7,
   "metadata": {},
   "outputs": [
    {
     "data": {
      "text/plain": [
       "Series([], dtype: float64)"
      ]
     },
     "execution_count": 7,
     "metadata": {},
     "output_type": "execute_result"
    }
   ],
   "source": [
    "MTseries = pd.Series()\n",
    "MTseries"
   ]
  },
  {
   "cell_type": "markdown",
   "metadata": {},
   "source": [
    "#### e) MonthDays, from a numpy array having the number of days in the 12 months of a year. The labels should be the month numbers from 1 to 12."
   ]
  },
  {
   "cell_type": "code",
   "execution_count": 8,
   "metadata": {},
   "outputs": [
    {
     "name": "stdout",
     "output_type": "stream",
     "text": [
      "1     31\n",
      "2     28\n",
      "3     31\n",
      "4     30\n",
      "5     31\n",
      "6     30\n",
      "7     31\n",
      "8     31\n",
      "9     30\n",
      "10    31\n",
      "11    30\n",
      "12    31\n",
      "dtype: int32\n"
     ]
    }
   ],
   "source": [
    "MonthDays = pd.Series(np.array([31,28,31,30,31,30,31,31,30,31,30,31]),index=[1,2,3,4,5,6,7,8,9,10,11,12])\n",
    "print(MonthDays)"
   ]
  },
  {
   "cell_type": "markdown",
   "metadata": {},
   "source": [
    "## 2. Using the Series created in Question 1, write commands for the following:\n"
   ]
  },
  {
   "cell_type": "markdown",
   "metadata": {},
   "source": [
    "#### a) Set all the values of Vowels to 10 and display the Series."
   ]
  },
  {
   "cell_type": "code",
   "execution_count": 9,
   "metadata": {},
   "outputs": [
    {
     "data": {
      "text/plain": [
       "a    10\n",
       "e    10\n",
       "i    10\n",
       "o    10\n",
       "u    10\n",
       "dtype: int64"
      ]
     },
     "execution_count": 9,
     "metadata": {},
     "output_type": "execute_result"
    }
   ],
   "source": [
    "vow['a':'u']=10\n",
    "vow"
   ]
  },
  {
   "cell_type": "markdown",
   "metadata": {},
   "source": [
    "#### b) Divide all values of Vowels by 2 and display the Series."
   ]
  },
  {
   "cell_type": "code",
   "execution_count": 10,
   "metadata": {},
   "outputs": [
    {
     "data": {
      "text/plain": [
       "a    5.0\n",
       "e    5.0\n",
       "i    5.0\n",
       "o    5.0\n",
       "u    5.0\n",
       "dtype: float64"
      ]
     },
     "execution_count": 10,
     "metadata": {},
     "output_type": "execute_result"
    }
   ],
   "source": [
    "div=vow/2\n",
    "div"
   ]
  },
  {
   "cell_type": "markdown",
   "metadata": {},
   "source": [
    "#### c) Create another series Vowels1 having 5 elements with index labels ‘a’, ‘e’, ‘i’, ‘o’ and ‘u’ having values [2,5,6,3,8] respectively."
   ]
  },
  {
   "cell_type": "code",
   "execution_count": 11,
   "metadata": {},
   "outputs": [
    {
     "data": {
      "text/plain": [
       "a    2\n",
       "e    5\n",
       "i    6\n",
       "o    3\n",
       "u    8\n",
       "dtype: int64"
      ]
     },
     "execution_count": 11,
     "metadata": {},
     "output_type": "execute_result"
    }
   ],
   "source": [
    "vowels1 = pd.Series([2,5,6,3,8],index=['a','e','i','o','u'])\n",
    "vowels1"
   ]
  },
  {
   "cell_type": "markdown",
   "metadata": {},
   "source": [
    "#### d) Add Vowels and Vowels1 and assign the result to Vowels3"
   ]
  },
  {
   "cell_type": "code",
   "execution_count": 12,
   "metadata": {},
   "outputs": [
    {
     "data": {
      "text/plain": [
       "a    12\n",
       "e    15\n",
       "i    16\n",
       "o    13\n",
       "u    18\n",
       "dtype: int64"
      ]
     },
     "execution_count": 12,
     "metadata": {},
     "output_type": "execute_result"
    }
   ],
   "source": [
    "vowaddition=vow+vowels1 # addition\n",
    "vowaddition"
   ]
  },
  {
   "cell_type": "markdown",
   "metadata": {},
   "source": [
    "#### e) Subtract, Multiply and Divide Vowels by Vowels1."
   ]
  },
  {
   "cell_type": "code",
   "execution_count": 13,
   "metadata": {},
   "outputs": [
    {
     "name": "stdout",
     "output_type": "stream",
     "text": [
      "subtraction\n",
      "a    8\n",
      "e    5\n",
      "i    4\n",
      "o    7\n",
      "u    2\n",
      "dtype: int64\n",
      "multiplication\n",
      "a    20\n",
      "e    50\n",
      "i    60\n",
      "o    30\n",
      "u    80\n",
      "dtype: int64\n"
     ]
    }
   ],
   "source": [
    "print(\"subtraction\")\n",
    "subt=vow-vowels1 #Subtraction\n",
    "print(subt)\n",
    "mult=vow*vowels1 #multiplication\n",
    "print(\"multiplication\")\n",
    "print(mult)\n"
   ]
  },
  {
   "cell_type": "markdown",
   "metadata": {},
   "source": [
    "#### f) Alter the labels of Vowels1 to [‘A’, ‘E’, ‘I’, ‘O’, ‘U’]"
   ]
  },
  {
   "cell_type": "code",
   "execution_count": 14,
   "metadata": {},
   "outputs": [
    {
     "data": {
      "text/plain": [
       "A    2\n",
       "E    5\n",
       "I    6\n",
       "O    3\n",
       "U    8\n",
       "dtype: int64"
      ]
     },
     "execution_count": 14,
     "metadata": {},
     "output_type": "execute_result"
    }
   ],
   "source": [
    "vowels1.index=['A','E','I','O','U']\n",
    "vowels1"
   ]
  },
  {
   "cell_type": "markdown",
   "metadata": {},
   "source": [
    "## 3. Using the Series created in Question 1, write commands for the following:"
   ]
  },
  {
   "cell_type": "markdown",
   "metadata": {},
   "source": [
    "#### a) Find the dimensions, size and values of the Series EngAlph, Vowels, Friends, MTseries, MonthDays."
   ]
  },
  {
   "cell_type": "code",
   "execution_count": 15,
   "metadata": {},
   "outputs": [
    {
     "name": "stdout",
     "output_type": "stream",
     "text": [
      "1\n",
      "26\n",
      "['a' 'b' 'c' 'd' 'e' 'f' 'g' 'h' 'i' 'j' 'k' 'l' 'm' 'n' 'o' 'p' 'q' 'r'\n",
      " 's' 't' 'u' 'v' 'w' 'x' 'y' 'z']\n"
     ]
    }
   ],
   "source": [
    "#for EngAlph\n",
    "print(alf.ndim)# for dimensions\n",
    "print(alf.size) #for size\n",
    "print(alf.values)#for values"
   ]
  },
  {
   "cell_type": "code",
   "execution_count": 16,
   "metadata": {},
   "outputs": [
    {
     "name": "stdout",
     "output_type": "stream",
     "text": [
      "1\n",
      "5\n",
      "[10 10 10 10 10]\n"
     ]
    }
   ],
   "source": [
    "#for Vowels\n",
    "print(vow.ndim)# for dimensions\n",
    "print(vow.size) #for size\n",
    "print(vow.values)#for values"
   ]
  },
  {
   "cell_type": "code",
   "execution_count": 17,
   "metadata": {},
   "outputs": [
    {
     "name": "stdout",
     "output_type": "stream",
     "text": [
      "1\n",
      "5\n",
      "[ 413  414 5646  403  404]\n"
     ]
    }
   ],
   "source": [
    "#for Friends\n",
    "print(fds.ndim)# for dimensions\n",
    "print(fds.size) #for size\n",
    "print(fds.values)#for values"
   ]
  },
  {
   "cell_type": "code",
   "execution_count": 18,
   "metadata": {},
   "outputs": [
    {
     "name": "stdout",
     "output_type": "stream",
     "text": [
      "1\n",
      "0\n",
      "[]\n"
     ]
    }
   ],
   "source": [
    "#for MTseries\n",
    "print(MTseries.ndim)# for dimensions\n",
    "print(MTseries.size) #for size\n",
    "print(MTseries.values)#for values"
   ]
  },
  {
   "cell_type": "code",
   "execution_count": 19,
   "metadata": {},
   "outputs": [
    {
     "name": "stdout",
     "output_type": "stream",
     "text": [
      "1\n",
      "12\n",
      "[31 28 31 30 31 30 31 31 30 31 30 31]\n"
     ]
    }
   ],
   "source": [
    "#for MonthDays\n",
    "print(MonthDays.ndim)# for dimensions\n",
    "print(MonthDays.size) #for size\n",
    "print(MonthDays.values)#for values"
   ]
  },
  {
   "cell_type": "markdown",
   "metadata": {},
   "source": [
    "#### b) Rename the Series MTseries as SeriesEmpty"
   ]
  },
  {
   "cell_type": "code",
   "execution_count": 20,
   "metadata": {},
   "outputs": [
    {
     "name": "stdout",
     "output_type": "stream",
     "text": [
      "Series([], dtype: float64)\n"
     ]
    }
   ],
   "source": [
    "SeriesEmpty=MTseries.rename()\n",
    "print(SeriesEmpty)"
   ]
  },
  {
   "cell_type": "markdown",
   "metadata": {},
   "source": [
    "#### c) Name the index of the Series MonthDays as monthno and that of Series Friends as Fname."
   ]
  },
  {
   "cell_type": "code",
   "execution_count": 28,
   "metadata": {},
   "outputs": [
    {
     "data": {
      "text/plain": [
       "monthno\n",
       "jan      31\n",
       "feb      28\n",
       "march    31\n",
       "april    30\n",
       "may      31\n",
       "june     30\n",
       "july     31\n",
       "aug      31\n",
       "sept     30\n",
       "oct      31\n",
       "now      30\n",
       "dec      31\n",
       "dtype: int32"
      ]
     },
     "execution_count": 28,
     "metadata": {},
     "output_type": "execute_result"
    }
   ],
   "source": [
    "MonthDays.index.name=(\"monthno\")\n",
    "MonthDays"
   ]
  },
  {
   "cell_type": "code",
   "execution_count": 30,
   "metadata": {},
   "outputs": [
    {
     "data": {
      "text/plain": [
       "fname\n",
       "sahil        413\n",
       "anjali       414\n",
       "shalu       5646\n",
       "Shrutika     403\n",
       "arpit        404\n",
       "dtype: int64"
      ]
     },
     "execution_count": 30,
     "metadata": {},
     "output_type": "execute_result"
    }
   ],
   "source": [
    "fds.index.name=(\"fname\")\n",
    "fds"
   ]
  },
  {
   "cell_type": "markdown",
   "metadata": {},
   "source": [
    "#### d) Display the 3rd and 2nd value of the Series Notes Friends, in that order.\n"
   ]
  },
  {
   "cell_type": "code",
   "execution_count": 25,
   "metadata": {},
   "outputs": [
    {
     "data": {
      "text/plain": [
       "403"
      ]
     },
     "execution_count": 25,
     "metadata": {},
     "output_type": "execute_result"
    }
   ],
   "source": [
    "fds['Shrutika'] #for 3rd "
   ]
  },
  {
   "cell_type": "code",
   "execution_count": 26,
   "metadata": {},
   "outputs": [
    {
     "data": {
      "text/plain": [
       "5646"
      ]
     },
     "execution_count": 26,
     "metadata": {},
     "output_type": "execute_result"
    }
   ],
   "source": [
    "fds['shalu'] #for 2nd"
   ]
  },
  {
   "cell_type": "markdown",
   "metadata": {},
   "source": [
    "#### e) Display the alphabets ‘e’ to ‘p’ from the Series EngAlph."
   ]
  },
  {
   "cell_type": "code",
   "execution_count": null,
   "metadata": {},
   "outputs": [],
   "source": []
  }
 ],
 "metadata": {
  "kernelspec": {
   "display_name": "Python 3",
   "language": "python",
   "name": "python3"
  },
  "language_info": {
   "codemirror_mode": {
    "name": "ipython",
    "version": 3
   },
   "file_extension": ".py",
   "mimetype": "text/x-python",
   "name": "python",
   "nbconvert_exporter": "python",
   "pygments_lexer": "ipython3",
   "version": "3.6.5"
  }
 },
 "nbformat": 4,
 "nbformat_minor": 2
}
